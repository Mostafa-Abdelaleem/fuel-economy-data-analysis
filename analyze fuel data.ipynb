{
 "cells": [
  {
   "cell_type": "markdown",
   "id": "c291f684",
   "metadata": {},
   "source": [
    "# Import Data"
   ]
  },
  {
   "cell_type": "code",
   "execution_count": 515,
   "id": "a6142488",
   "metadata": {},
   "outputs": [
    {
     "data": {
      "text/html": [
       "<div>\n",
       "<style scoped>\n",
       "    .dataframe tbody tr th:only-of-type {\n",
       "        vertical-align: middle;\n",
       "    }\n",
       "\n",
       "    .dataframe tbody tr th {\n",
       "        vertical-align: top;\n",
       "    }\n",
       "\n",
       "    .dataframe thead th {\n",
       "        text-align: right;\n",
       "    }\n",
       "</style>\n",
       "<table border=\"1\" class=\"dataframe\">\n",
       "  <thead>\n",
       "    <tr style=\"text-align: right;\">\n",
       "      <th></th>\n",
       "      <th>Model</th>\n",
       "      <th>Displ</th>\n",
       "      <th>Cyl</th>\n",
       "      <th>Trans</th>\n",
       "      <th>Drive</th>\n",
       "      <th>Fuel</th>\n",
       "      <th>Cert Region</th>\n",
       "      <th>Stnd</th>\n",
       "      <th>Stnd Description</th>\n",
       "      <th>Underhood ID</th>\n",
       "      <th>Veh Class</th>\n",
       "      <th>Air Pollution Score</th>\n",
       "      <th>City MPG</th>\n",
       "      <th>Hwy MPG</th>\n",
       "      <th>Cmb MPG</th>\n",
       "      <th>Greenhouse Gas Score</th>\n",
       "      <th>SmartWay</th>\n",
       "      <th>Comb CO2</th>\n",
       "    </tr>\n",
       "  </thead>\n",
       "  <tbody>\n",
       "    <tr>\n",
       "      <th>0</th>\n",
       "      <td>ACURA RDX</td>\n",
       "      <td>3.5</td>\n",
       "      <td>6.0</td>\n",
       "      <td>SemiAuto-6</td>\n",
       "      <td>2WD</td>\n",
       "      <td>Gasoline</td>\n",
       "      <td>FA</td>\n",
       "      <td>T3B125</td>\n",
       "      <td>Federal Tier 3 Bin 125</td>\n",
       "      <td>JHNXT03.5GV3</td>\n",
       "      <td>small SUV</td>\n",
       "      <td>3</td>\n",
       "      <td>20</td>\n",
       "      <td>28</td>\n",
       "      <td>23</td>\n",
       "      <td>5</td>\n",
       "      <td>No</td>\n",
       "      <td>386</td>\n",
       "    </tr>\n",
       "    <tr>\n",
       "      <th>1</th>\n",
       "      <td>ACURA RDX</td>\n",
       "      <td>3.5</td>\n",
       "      <td>6.0</td>\n",
       "      <td>SemiAuto-6</td>\n",
       "      <td>2WD</td>\n",
       "      <td>Gasoline</td>\n",
       "      <td>CA</td>\n",
       "      <td>U2</td>\n",
       "      <td>California LEV-II ULEV</td>\n",
       "      <td>JHNXT03.5GV3</td>\n",
       "      <td>small SUV</td>\n",
       "      <td>3</td>\n",
       "      <td>20</td>\n",
       "      <td>28</td>\n",
       "      <td>23</td>\n",
       "      <td>5</td>\n",
       "      <td>No</td>\n",
       "      <td>386</td>\n",
       "    </tr>\n",
       "    <tr>\n",
       "      <th>2</th>\n",
       "      <td>ACURA RDX</td>\n",
       "      <td>3.5</td>\n",
       "      <td>6.0</td>\n",
       "      <td>SemiAuto-6</td>\n",
       "      <td>4WD</td>\n",
       "      <td>Gasoline</td>\n",
       "      <td>FA</td>\n",
       "      <td>T3B125</td>\n",
       "      <td>Federal Tier 3 Bin 125</td>\n",
       "      <td>JHNXT03.5GV3</td>\n",
       "      <td>small SUV</td>\n",
       "      <td>3</td>\n",
       "      <td>19</td>\n",
       "      <td>27</td>\n",
       "      <td>22</td>\n",
       "      <td>4</td>\n",
       "      <td>No</td>\n",
       "      <td>402</td>\n",
       "    </tr>\n",
       "    <tr>\n",
       "      <th>3</th>\n",
       "      <td>ACURA RDX</td>\n",
       "      <td>3.5</td>\n",
       "      <td>6.0</td>\n",
       "      <td>SemiAuto-6</td>\n",
       "      <td>4WD</td>\n",
       "      <td>Gasoline</td>\n",
       "      <td>CA</td>\n",
       "      <td>U2</td>\n",
       "      <td>California LEV-II ULEV</td>\n",
       "      <td>JHNXT03.5GV3</td>\n",
       "      <td>small SUV</td>\n",
       "      <td>3</td>\n",
       "      <td>19</td>\n",
       "      <td>27</td>\n",
       "      <td>22</td>\n",
       "      <td>4</td>\n",
       "      <td>No</td>\n",
       "      <td>402</td>\n",
       "    </tr>\n",
       "    <tr>\n",
       "      <th>4</th>\n",
       "      <td>ACURA TLX</td>\n",
       "      <td>2.4</td>\n",
       "      <td>4.0</td>\n",
       "      <td>AMS-8</td>\n",
       "      <td>2WD</td>\n",
       "      <td>Gasoline</td>\n",
       "      <td>CA</td>\n",
       "      <td>L3ULEV125</td>\n",
       "      <td>California LEV-III ULEV125</td>\n",
       "      <td>JHNXV02.4WH3</td>\n",
       "      <td>small car</td>\n",
       "      <td>3</td>\n",
       "      <td>23</td>\n",
       "      <td>33</td>\n",
       "      <td>27</td>\n",
       "      <td>6</td>\n",
       "      <td>No</td>\n",
       "      <td>330</td>\n",
       "    </tr>\n",
       "  </tbody>\n",
       "</table>\n",
       "</div>"
      ],
      "text/plain": [
       "       Model  Displ  Cyl       Trans Drive      Fuel Cert Region       Stnd  \\\n",
       "0  ACURA RDX    3.5  6.0  SemiAuto-6   2WD  Gasoline          FA     T3B125   \n",
       "1  ACURA RDX    3.5  6.0  SemiAuto-6   2WD  Gasoline          CA         U2   \n",
       "2  ACURA RDX    3.5  6.0  SemiAuto-6   4WD  Gasoline          FA     T3B125   \n",
       "3  ACURA RDX    3.5  6.0  SemiAuto-6   4WD  Gasoline          CA         U2   \n",
       "4  ACURA TLX    2.4  4.0       AMS-8   2WD  Gasoline          CA  L3ULEV125   \n",
       "\n",
       "             Stnd Description  Underhood ID  Veh Class  Air Pollution Score  \\\n",
       "0      Federal Tier 3 Bin 125  JHNXT03.5GV3  small SUV                    3   \n",
       "1      California LEV-II ULEV  JHNXT03.5GV3  small SUV                    3   \n",
       "2      Federal Tier 3 Bin 125  JHNXT03.5GV3  small SUV                    3   \n",
       "3      California LEV-II ULEV  JHNXT03.5GV3  small SUV                    3   \n",
       "4  California LEV-III ULEV125  JHNXV02.4WH3  small car                    3   \n",
       "\n",
       "  City MPG Hwy MPG Cmb MPG  Greenhouse Gas Score SmartWay Comb CO2  \n",
       "0       20      28      23                     5       No      386  \n",
       "1       20      28      23                     5       No      386  \n",
       "2       19      27      22                     4       No      402  \n",
       "3       19      27      22                     4       No      402  \n",
       "4       23      33      27                     6       No      330  "
      ]
     },
     "execution_count": 515,
     "metadata": {},
     "output_type": "execute_result"
    }
   ],
   "source": [
    "import pandas as pd\n",
    "\n",
    "df_8=pd.read_csv('all_alpha_08.csv')\n",
    "df_18=pd.read_csv('all_alpha_18.csv')\n",
    "df_18.head()"
   ]
  },
  {
   "cell_type": "markdown",
   "id": "000e427f",
   "metadata": {},
   "source": [
    "# Answer this Questions\n",
    "* number of samples in each dataset\n",
    "* number of columns in each dataset\n",
    "* duplicate rows in each dataset\n",
    "* datatypes of columns\n",
    "* features with missing values\n",
    "* number of non-null unique values for features in each dataset\n",
    "* what those unique values are and counts for each"
   ]
  },
  {
   "cell_type": "code",
   "execution_count": 516,
   "id": "e45f2823",
   "metadata": {},
   "outputs": [
    {
     "data": {
      "text/plain": [
       "6      1471\n",
       "7       521\n",
       "2       112\n",
       "3        85\n",
       "9.5      80\n",
       "6/6      32\n",
       "3/3      27\n",
       "9        23\n",
       "1        22\n",
       "8        15\n",
       "7/7      12\n",
       "0         3\n",
       "6/4       1\n",
       "Name: Air Pollution Score, dtype: int64"
      ]
     },
     "execution_count": 516,
     "metadata": {},
     "output_type": "execute_result"
    }
   ],
   "source": [
    "# number of samples in each dataset & number of columns in each dataset\n",
    "df_8.shape , df_18.shape\n",
    "#duplicate rows in each dataset\n",
    "sum(df_8.duplicated()),sum(df_18.duplicated())\n",
    "#datatypes of columns\n",
    "df_8.dtypes,df_18.dtypes\n",
    "# features with missing values\n",
    "df_8.isna().any(),df_18.isna().any()\n",
    "# rows with missing values\n",
    "sum(df_8.isna().any(axis=1)),sum(df_18.isna().any(axis=1))\n",
    "# number of non-null unique values for features in each dataset\n",
    "df_8.nunique(),df_18.nunique()\n",
    "# what those unique values are and counts for each\n",
    "df_8['Air Pollution Score'].value_counts()"
   ]
  },
  {
   "cell_type": "markdown",
   "id": "be70548b",
   "metadata": {},
   "source": [
    "\n",
    "<h3 style='color:blue;'>1. Drop extraneous columns</h3>\n",
    "\n",
    "Drop features that aren't consistent (not present in both datasets) or aren't relevant to our questions. Use pandas' drop function.\n",
    "\n",
    "Columns to Drop:\n",
    "* From 2008 dataset: 'Stnd', 'Underhood ID', 'FE Calc Appr', 'Unadj Cmb MPG'\n",
    "* From 2018 dataset: 'Stnd', 'Stnd Description', 'Underhood ID', 'Comb CO2'\n"
   ]
  },
  {
   "cell_type": "code",
   "execution_count": 517,
   "id": "896406ee",
   "metadata": {},
   "outputs": [],
   "source": [
    "# help(df_8.drop)\n",
    "df_8.drop(['Stnd', 'Underhood ID', 'FE Calc Appr', 'Unadj Cmb MPG'],axis=1,inplace=True)\n",
    "df_18.drop(['Stnd', 'Stnd Description', 'Underhood ID', 'Comb CO2'],axis=1,inplace=True)"
   ]
  },
  {
   "cell_type": "markdown",
   "id": "202284cf",
   "metadata": {},
   "source": [
    "<h3 style='color:blue'>2. Rename Columns</h3>\n",
    "\n",
    "* Change the \"Sales Area\" column label in the 2008 dataset to \"Cert Region\" for consistency.\n",
    "* Rename all column labels to replace spaces with underscores and convert everything to lowercase. (Underscores can be much easier to work with in Python than spaces. For example, having spaces wouldn't allow you to use df.column_name instead of df['column_name'] to select columns or use query(). Being consistent with lowercase and underscores also helps make column names easy to remember.)\n"
   ]
  },
  {
   "cell_type": "code",
   "execution_count": 518,
   "id": "baefe009",
   "metadata": {},
   "outputs": [
    {
     "data": {
      "text/plain": [
       "array([ True,  True,  True,  True,  True,  True,  True,  True,  True,\n",
       "        True,  True,  True,  True,  True])"
      ]
     },
     "execution_count": 518,
     "metadata": {},
     "output_type": "execute_result"
    }
   ],
   "source": [
    "df_8.columns.values[6]='Cert Region'\n",
    "df_8.rename(columns={\"Sales Area\":\"Cert Region\"})\n",
    "df_8.columns\n",
    "df_8.columns=df_8.columns.str.lower().str.replace(' ','_')\n",
    "df_18.rename(columns=lambda x:x.strip().lower().replace(' ','_'),inplace=True)\n",
    "df_8.columns==df_18.columns\n"
   ]
  },
  {
   "cell_type": "markdown",
   "id": "09d22b66",
   "metadata": {},
   "source": [
    "# Filter, Drop Nulls, Dedupe\n",
    "<h3 style='color:blue'>1. Filter</h3>\n",
    "For consistency, only compare cars certified by California standards. Filter both datasets using query to select only rows where | is CA. Then, drop the cert_region columns, since it will no longer provide any useful information (we'll know every value is 'CA').\n",
    "\n",
    "<h3 style='color:blue'>2. Drop Nulls</h3>\n",
    "Drop any rows in both datasets that contain missing values.\n",
    "\n",
    "<h3 style='color:blue'>3. Dedupe</h3>\n",
    "\n",
    "Drop any duplicate rows in both datasets."
   ]
  },
  {
   "cell_type": "code",
   "execution_count": 519,
   "id": "54eb9105",
   "metadata": {},
   "outputs": [
    {
     "name": "stdout",
     "output_type": "stream",
     "text": [
      "False False\n"
     ]
    }
   ],
   "source": [
    "# filter\n",
    "df_8.query('cert_region == \"CA\" ',inplace=True)\n",
    "df_18.query('cert_region == \"CA\" ',inplace=True)\n",
    "#Drop nulls\n",
    "df_8.dropna(inplace=True)\n",
    "df_18.dropna(inplace=True)\n",
    "# print(df_8.isna().any(),df_18.isna().any())\n",
    "#dedube\n",
    "df_8.drop_duplicates(inplace=True)\n",
    "df_18.drop_duplicates(inplace=True)\n",
    "print(df_8.duplicated().any(),df_18.duplicated().any())"
   ]
  },
  {
   "cell_type": "markdown",
   "id": "7dbe0c8d",
   "metadata": {},
   "source": [
    "# Inspecting and Fixing Data Types\n",
    "* Fix cyl datatype\n",
    " - 2008: extract int from string.\n",
    " - 2018: convert float to int.\n",
    "* Fix air_pollution_score datatype\n",
    " - 2008: convert string to float.\n",
    " - 2018: convert int to float.\n",
    " \n",
    "note:\n",
    "\"If a vehicle can operate on more than one type of fuel, an estimate is provided for each fuel type.\"\n",
    "* Fix city_mpg, hwy_mpg, cmb_mpg datatypes\n",
    " - 2008 and 2018: convert string to float.\n",
    " \n",
    "note:\n",
    "\"If a vehicle can operate on more than one type of fuel, an estimate is provided for each fuel type.\"\n",
    "* Fix greenhouse_gas_score datatype\n",
    " - 2008 and 2018: convert to float.\n"
   ]
  },
  {
   "cell_type": "code",
   "execution_count": 520,
   "id": "2846ae76",
   "metadata": {},
   "outputs": [],
   "source": [
    "# Fix cyl datatype\n",
    "df_8.dtypes,df_18.dtypes\n",
    "df_8['cyl']=df_8['cyl'].apply(lambda x:int(x[1:3]) )\n",
    "df_18['cyl']=df_18['cyl'].apply(lambda x:int(x) )\n"
   ]
  },
  {
   "cell_type": "code",
   "execution_count": 521,
   "id": "78159156",
   "metadata": {},
   "outputs": [],
   "source": [
    "# Fix city_mpg, hwy_mpg, cmb_mpg datatypes\n",
    "df_split_8=df_8[df_8['fuel'].str.contains('/')]\n",
    "split_columns = ['fuel', 'air_pollution_score', 'city_mpg', 'hwy_mpg', 'cmb_mpg', 'greenhouse_gas_score']\n",
    "df1=df_split_8.copy()\n",
    "df2=df_split_8.copy()\n",
    "for c in split_columns:\n",
    "    df1[c]=df1[c].apply(lambda x:x.split(\"/\")[0])\n",
    "    df2[c]=df2[c].apply(lambda x:x.split(\"/\")[1])\n",
    "df_8.drop(df_split_8.index,inplace=True)\n",
    "df_8=df_8.append(df1,ignore_index=True).append(df2,ignore_index=True)\n",
    "# for df_18\n",
    "df_split_18=df_18[df_18['fuel'].str.contains('/')]\n",
    "split_columns = ['fuel',  'city_mpg', 'hwy_mpg', 'cmb_mpg']\n",
    "df1=df_split_18.copy()\n",
    "df2=df_split_18.copy()\n",
    "for c in split_columns:\n",
    "    df1[c]=df1[c].apply(lambda x:x.split(\"/\")[0])\n",
    "    df2[c]=df2[c].apply(lambda x:x.split(\"/\")[1])\n",
    "df_18.drop(df_split_18.index,inplace=True)\n",
    "df_18=df_18.append(df1,ignore_index=True).append(df2,ignore_index=True)\n",
    "# convert mpg columns to floats\n",
    "mpg_columns = [  'city_mpg', 'hwy_mpg', 'cmb_mpg']\n",
    "for c in mpg_columns:\n",
    "    df_18[c] = df_18[c].astype(float)\n",
    "    df_8[c] = df_8[c].astype(float)\n",
    "# df1.shape,df2.shape\n"
   ]
  },
  {
   "cell_type": "code",
   "execution_count": 522,
   "id": "0c2efd4e",
   "metadata": {},
   "outputs": [
    {
     "data": {
      "text/plain": [
       "array(['4', '5', '6', '7', '0', '1', '3', '2', '8', '9', '10'],\n",
       "      dtype=object)"
      ]
     },
     "execution_count": 522,
     "metadata": {},
     "output_type": "execute_result"
    }
   ],
   "source": [
    "df_8.greenhouse_gas_score.unique()"
   ]
  },
  {
   "cell_type": "code",
   "execution_count": 523,
   "id": "16190ad4",
   "metadata": {},
   "outputs": [],
   "source": [
    "# Fix air_pollution_score datatype\n",
    "df_8['air_pollution_score']=df_8['air_pollution_score'].astype(float)\n",
    "df_18['air_pollution_score']=df_18['air_pollution_score'].astype(float)"
   ]
  },
  {
   "cell_type": "code",
   "execution_count": 524,
   "id": "341d2398",
   "metadata": {},
   "outputs": [
    {
     "data": {
      "text/plain": [
       "model                    object\n",
       "displ                   float64\n",
       "cyl                       int64\n",
       "trans                    object\n",
       "drive                    object\n",
       "fuel                     object\n",
       "cert_region              object\n",
       "veh_class                object\n",
       "air_pollution_score     float64\n",
       "city_mpg                float64\n",
       "hwy_mpg                 float64\n",
       "cmb_mpg                 float64\n",
       "greenhouse_gas_score     object\n",
       "smartway                 object\n",
       "dtype: object"
      ]
     },
     "execution_count": 524,
     "metadata": {},
     "output_type": "execute_result"
    }
   ],
   "source": [
    "df_8.dtypes\n"
   ]
  },
  {
   "cell_type": "code",
   "execution_count": 525,
   "id": "f278cef2",
   "metadata": {},
   "outputs": [
    {
     "data": {
      "text/plain": [
       "(model                    object\n",
       " displ                   float64\n",
       " cyl                       int64\n",
       " trans                    object\n",
       " drive                    object\n",
       " fuel                     object\n",
       " cert_region              object\n",
       " veh_class                object\n",
       " air_pollution_score     float64\n",
       " city_mpg                float64\n",
       " hwy_mpg                 float64\n",
       " cmb_mpg                 float64\n",
       " greenhouse_gas_score      int64\n",
       " smartway                 object\n",
       " dtype: object,\n",
       " model                    object\n",
       " displ                   float64\n",
       " cyl                       int64\n",
       " trans                    object\n",
       " drive                    object\n",
       " fuel                     object\n",
       " cert_region              object\n",
       " veh_class                object\n",
       " air_pollution_score     float64\n",
       " city_mpg                float64\n",
       " hwy_mpg                 float64\n",
       " cmb_mpg                 float64\n",
       " greenhouse_gas_score      int64\n",
       " smartway                 object\n",
       " dtype: object)"
      ]
     },
     "execution_count": 525,
     "metadata": {},
     "output_type": "execute_result"
    }
   ],
   "source": [
    "# Fix greenhouse_gas_score datatype\n",
    "df_8.dtypes,df_18.dtypes\n",
    "df_8['greenhouse_gas_score']=df_8['greenhouse_gas_score'].astype(int)\n",
    "df_18['greenhouse_gas_score']=df_18['greenhouse_gas_score'].astype(int)\n",
    "df_8.dtypes,df_18.dtypes"
   ]
  },
  {
   "cell_type": "markdown",
   "id": "11f2e680",
   "metadata": {},
   "source": [
    "<h3 style='color:red'> Solution </h3>\n",
    "\n",
    "```python\n",
    "# Extract int from strings in the 2008 cyl column\n",
    "df_08['cyl'] = df_08['cyl'].str.extract('(\\d+)').astype(int)\n",
    "# Check value counts for 2008 cyl column again to confirm the change\n",
    "df_08['cyl'].value_counts()\n",
    "# convert 2018 cyl column to int\n",
    "df_18['cyl'] = df_18['cyl'].astype(int)\n",
    "\n",
    "## Fix air_pollution_score,city_mpg, hwy_mpg, cmb_mpg datatype\n",
    "# First, let's get all the hybrids in 2008\n",
    "hb_08 = df_08[df_08['fuel'].str.contains('/')]\n",
    "hb_08\n",
    "# hybrids in 2018\n",
    "hb_18 = df_18[df_18['fuel'].str.contains('/')]\n",
    "hb_18\n",
    "# create two copies of the 2008 hybrids dataframe\n",
    "df1 = hb_08.copy()  # data on first fuel type of each hybrid vehicle\n",
    "df2 = hb_08.copy()  # data on second fuel type of each hybrid vehicle\n",
    "# Each one should look like this\n",
    "df1\n",
    "# columns to split by \"/\"\n",
    "split_columns = ['fuel', 'air_pollution_score', 'city_mpg', 'hwy_mpg', 'cmb_mpg', 'greenhouse_gas_score']\n",
    "\n",
    "# apply split function to each column of each dataframe copy\n",
    "for c in split_columns:\n",
    "    df1[c] = df1[c].apply(lambda x: x.split(\"/\")[0])\n",
    "    df2[c] = df2[c].apply(lambda x: x.split(\"/\")[1])\n",
    "# this dataframe holds info for the FIRST fuel type of the hybrid\n",
    "# aka the values before the \"/\"s\n",
    "df1\n",
    "# this dataframe holds info for the SECOND fuel type of the hybrid\n",
    "# aka the values before the \"/\"s\n",
    "df2\n",
    "# combine dataframes to add to the original dataframe\n",
    "new_rows = df1.append(df2)\n",
    "\n",
    "# now we have separate rows for each fuel type of each vehicle!\n",
    "new_rows\n",
    "# drop the original hybrid rows\n",
    "df_08.drop(hb_08.index, inplace=True)\n",
    "\n",
    "# add in our newly separated rows\n",
    "df_08 = df_08.append(new_rows, ignore_index=True)\n",
    "# check that all the original hybrid rows with \"/\"s are gone\n",
    "df_08[df_08['fuel'].str.contains('/')]\n",
    "# create two copies of the 2018 hybrids dataframe, hb_18\n",
    "df1 = hb_18.copy()\n",
    "df2 = hb_18.copy()\n",
    "# list of columns to split\n",
    "split_columns = ['fuel', 'city_mpg', 'hwy_mpg', 'cmb_mpg']\n",
    "\n",
    "# apply split function to each column of each dataframe copy\n",
    "for c in split_columns:\n",
    "    df1[c] = df1[c].apply(lambda x: x.split(\"/\")[0])\n",
    "    df2[c] = df2[c].apply(lambda x: x.split(\"/\")[1])\n",
    "# append the two dataframes\n",
    "new_rows = df1.append(df2)\n",
    "\n",
    "# drop each hybrid row from the original 2018 dataframe\n",
    "# do this by using Pandas drop function with hb_18's index\n",
    "df_18.drop(hb_18.index, inplace=True)\n",
    "\n",
    "# append new_rows to df_18\n",
    "df_18 = df_18.append(new_rows, ignore_index=True)\n",
    "# check that they're gone\n",
    "df_18[df_18['fuel'].str.contains('/')]\n",
    "\n",
    "## Fix greenhouse_gas_score datatype\n",
    "# convert string to float for 2008 air pollution column\n",
    "df_08.air_pollution_score = df_08.air_pollution_score.astype(float)\n",
    "# convert int to float for 2018 air pollution column\n",
    "df_18.air_pollution_score = df_18.air_pollution_score.astype(float)\n",
    "```"
   ]
  },
  {
   "cell_type": "markdown",
   "id": "412ffb8d",
   "metadata": {},
   "source": [
    "# Exploring with Visuals\n"
   ]
  },
  {
   "cell_type": "code",
   "execution_count": 526,
   "id": "7af6c9b4",
   "metadata": {},
   "outputs": [
    {
     "data": {
      "image/png": "[encoded data removed]",
      "text/plain": [
       "<Figure size 432x288 with 1 Axes>"
      ]
     },
     "metadata": {},
     "output_type": "display_data"
    }
   ],
   "source": [
    "import matplotlib.pyplot as plt\n",
    "import seaborn as sns\n",
    "%matplotlib inline\n",
    "sns.set_style('darkgrid')\n",
    "\n",
    "# Compare the distributions of greenhouse gas score in 2008 and 2018.\n",
    "df_8.greenhouse_gas_score.plot(kind='hist',alpha=0.5,label='2008');\n",
    "df_18.greenhouse_gas_score.plot(kind='hist',alpha=0.5,label='2018');\n",
    "plt.legend();"
   ]
  },
  {
   "cell_type": "code",
   "execution_count": 527,
   "id": "786693c1",
   "metadata": {},
   "outputs": [
    {
     "data": {
      "image/png": "[encoded data removed]",
      "text/plain": [
       "<Figure size 432x288 with 1 Axes>"
      ]
     },
     "metadata": {},
     "output_type": "display_data"
    }
   ],
   "source": [
    "# How has the distribution of combined mpg changed from 2008 to 2018?\n",
    "df_8.cmb_mpg.plot(kind='hist',alpha=0.5,label='2008');\n",
    "df_18.cmb_mpg.plot(kind='hist',alpha=0.5,label='2018');\n",
    "plt.legend();"
   ]
  },
  {
   "cell_type": "code",
   "execution_count": 528,
   "id": "a1163116",
   "metadata": {},
   "outputs": [
    {
     "data": {
      "image/png": "[encoded data removed]",
      "text/plain": [
       "<Figure size 432x288 with 1 Axes>"
      ]
     },
     "metadata": {},
     "output_type": "display_data"
    }
   ],
   "source": [
    "# Describe the correlation between displacement and combined mpg.\n",
    "plt.scatter(df_8.displ,df_8.cmb_mpg);"
   ]
  },
  {
   "cell_type": "code",
   "execution_count": 529,
   "id": "aa890f98",
   "metadata": {},
   "outputs": [
    {
     "data": {
      "image/png": "[encoded data removed]",
      "text/plain": [
       "<Figure size 432x288 with 1 Axes>"
      ]
     },
     "metadata": {},
     "output_type": "display_data"
    }
   ],
   "source": [
    "# Describe the correlation between greenhouse gas score and combined mpg.\n",
    "plt.scatter(df_8.greenhouse_gas_score,df_8.cmb_mpg);"
   ]
  },
  {
   "cell_type": "markdown",
   "id": "7cbbe744",
   "metadata": {},
   "source": [
    "# Conclusions & Visuals"
   ]
  },
  {
   "cell_type": "markdown",
   "id": "0a05d9d9",
   "metadata": {},
   "source": [
    "<h3 style='color:blue'>Q1: Are more unique models using alternative fuels in 2018 compared to 2008? By how much?\n",
    "</h3>"
   ]
  },
  {
   "cell_type": "code",
   "execution_count": 530,
   "id": "c39ad1a5",
   "metadata": {},
   "outputs": [
    {
     "data": {
      "text/plain": [
       "Text(0, 0.5, 'number of models')"
      ]
     },
     "execution_count": 530,
     "metadata": {},
     "output_type": "execute_result"
    },
    {
     "data": {
      "image/png": "[encoded data removed]",
      "text/plain": [
       "<Figure size 432x288 with 1 Axes>"
      ]
     },
     "metadata": {},
     "output_type": "display_data"
    }
   ],
   "source": [
    "df_8['fuel'].value_counts()\n",
    "df_18['fuel'].value_counts()\n",
    "df1=df_8.query('fuel in [\"CNG\",\"ethanol\"]').model.nunique()\n",
    "df2=df_18.query('fuel in [\"Electricity\",\"Ethanol\"]').model.nunique()\n",
    "plt.bar(['2008','2018'],[df1,df2],color=['red','blue'])\n",
    "plt.title('models using alternative fuels')\n",
    "plt.xlabel('years')\n",
    "plt.ylabel('number of models')\n",
    "\n",
    "# len(df_18) "
   ]
  },
  {
   "cell_type": "code",
   "execution_count": 531,
   "id": "600cee87",
   "metadata": {},
   "outputs": [
    {
     "data": {
      "text/plain": [
       "Index(['model', 'displ', 'cyl', 'trans', 'drive', 'fuel', 'cert_region',\n",
       "       'veh_class', 'air_pollution_score', 'city_mpg', 'hwy_mpg', 'cmb_mpg',\n",
       "       'greenhouse_gas_score', 'smartway'],\n",
       "      dtype='object')"
      ]
     },
     "execution_count": 531,
     "metadata": {},
     "output_type": "execute_result"
    }
   ],
   "source": [
    "df_18.columns"
   ]
  },
  {
   "cell_type": "markdown",
   "id": "3b116b97",
   "metadata": {},
   "source": [
    "<h3 style='color:blue'>Q2: How much have vehicle classes improved in fuel economy (increased in mpg)?</h3>\n"
   ]
  },
  {
   "cell_type": "code",
   "execution_count": 532,
   "id": "c018323f",
   "metadata": {},
   "outputs": [
    {
     "data": {
      "text/plain": [
       "(Index(['SUV', 'large car', 'midsize car', 'minivan', 'pickup', 'small car',\n",
       "        'station wagon', 'van'],\n",
       "       dtype='object', name='veh_class'),\n",
       " Index(['large car', 'midsize car', 'minivan', 'pickup', 'small SUV',\n",
       "        'small car', 'special purpose', 'standard SUV', 'station wagon'],\n",
       "       dtype='object', name='veh_class'))"
      ]
     },
     "execution_count": 532,
     "metadata": {},
     "output_type": "execute_result"
    },
    {
     "data": {
      "image/png": "[encoded data removed]",
      "text/plain": [
       "<Figure size 432x288 with 1 Axes>"
      ]
     },
     "metadata": {},
     "output_type": "display_data"
    }
   ],
   "source": [
    "import numpy as np\n",
    "df_8[['city_mpg','hwy_mpg','cmb_mpg']].mean(),df_18[['city_mpg','hwy_mpg','cmb_mpg']].mean()\n",
    "# plt.bar(['2008','2018'],[df_8['cmb_mpg'].mean(),df_18['cmb_mpg'].mean()])\n",
    "df_18['cmb_mpg'].mean()- df_8['cmb_mpg'].mean()\n",
    "df_8['cmb_mpg'].min(),df_18['cmb_mpg'].min()\n",
    "df_8['cmb_mpg'].max(),df_18['cmb_mpg'].max()\n",
    "# plt.hist([df_8['cmb_mpg'].value_counts(),df_18['cmb_mpg'].value_counts()],label=[\"2018\",'2008'])\n",
    "# plt.legend()\n",
    "df_8['cmb_mpg'].value_counts(),df_18['cmb_mpg'].value_counts()\n",
    "df1=df_8.groupby('veh_class').cmb_mpg.mean()\n",
    "df2=df_18.groupby('veh_class').cmb_mpg.mean()\n",
    "plt.bar(df2.index,df2,alpha=0.5,label='2018')\n",
    "plt.bar(df1.index,df1,alpha=0.5,label='2008')\n",
    "plt.xticks(rotation = 90) # Rotates X-Axis Ticks by 45-degrees\n",
    "plt.legend()\n",
    "\n",
    "df1.index,df2.index"
   ]
  },
  {
   "cell_type": "markdown",
   "id": "83a6c0cb",
   "metadata": {},
   "source": [
    "<h3 style='color:blue'>Q3: What are the characteristics of SmartWay vehicles? Have they changed over time?</h3>"
   ]
  },
  {
   "cell_type": "code",
   "execution_count": 533,
   "id": "56e11d27",
   "metadata": {},
   "outputs": [
    {
     "data": {
      "text/plain": [
       "(            displ         cyl  air_pollution_score    city_mpg     hwy_mpg  \\\n",
       " count  380.000000  380.000000           380.000000  380.000000  380.000000   \n",
       " mean     2.602895    4.826316             7.365789   20.984211   28.413158   \n",
       " std      0.623436    1.002025             1.148195    3.442672    3.075194   \n",
       " min      1.300000    4.000000             6.000000   17.000000   22.000000   \n",
       " 25%      2.275000    4.000000             7.000000   19.000000   26.000000   \n",
       " 50%      2.400000    4.000000             7.000000   20.000000   28.000000   \n",
       " 75%      3.000000    6.000000             7.000000   22.000000   30.000000   \n",
       " max      5.000000    8.000000             9.500000   48.000000   45.000000   \n",
       " \n",
       "           cmb_mpg  greenhouse_gas_score  \n",
       " count  380.000000            380.000000  \n",
       " mean    23.736842              6.868421  \n",
       " std      3.060379              0.827338  \n",
       " min     20.000000              6.000000  \n",
       " 25%     22.000000              6.000000  \n",
       " 50%     23.000000              7.000000  \n",
       " 75%     25.000000              7.000000  \n",
       " max     46.000000             10.000000  ,\n",
       "             displ         cyl  air_pollution_score    city_mpg     hwy_mpg  \\\n",
       " count  108.000000  108.000000           108.000000  108.000000  108.000000   \n",
       " mean     1.787963    3.935185             5.212963   34.907407   41.472222   \n",
       " std      0.408031    0.416329             1.798498   16.431982   13.095236   \n",
       " min      1.200000    3.000000             3.000000   25.000000   27.000000   \n",
       " 25%      1.500000    4.000000             3.000000   28.000000   36.000000   \n",
       " 50%      1.700000    4.000000             5.500000   28.500000   37.000000   \n",
       " 75%      2.000000    4.000000             7.000000   31.250000   40.250000   \n",
       " max      3.500000    6.000000             7.000000  113.000000   99.000000   \n",
       " \n",
       "           cmb_mpg  greenhouse_gas_score  \n",
       " count  108.000000            108.000000  \n",
       " mean    37.361111              7.925926  \n",
       " std     14.848429              1.197378  \n",
       " min     26.000000              7.000000  \n",
       " 25%     31.000000              7.000000  \n",
       " 50%     32.000000              7.000000  \n",
       " 75%     35.000000              9.000000  \n",
       " max    106.000000             10.000000  )"
      ]
     },
     "execution_count": 533,
     "metadata": {},
     "output_type": "execute_result"
    }
   ],
   "source": [
    "df_8['smartway'].unique()\n",
    "df1=df_8[df_8['smartway']== 'yes']\n",
    "df_18['smartway'].unique()\n",
    "\n",
    "df2=df_18.query('smartway in [\"Elite\",\"Yes\"]')\n",
    "df1.describe(),df2.describe()\n",
    "# plt.bar(df2.index,df2)"
   ]
  },
  {
   "cell_type": "markdown",
   "id": "1767ae74",
   "metadata": {},
   "source": [
    "<h3 style='color:blue'>Q4: What features are associated with better fuel economy?</h3>"
   ]
  },
  {
   "cell_type": "code",
   "execution_count": 534,
   "id": "9fe42029",
   "metadata": {},
   "outputs": [
    {
     "data": {
      "image/png": "[encoded data removed]",
      "text/plain": [
       "<Figure size 720x720 with 25 Axes>"
      ]
     },
     "metadata": {},
     "output_type": "display_data"
    }
   ],
   "source": [
    "df1=df_8.drop(['city_mpg', 'hwy_mpg'],axis=1)\n",
    "pd.plotting.scatter_matrix(df1,figsize=(10,10));\n"
   ]
  },
  {
   "cell_type": "markdown",
   "id": "3d824112",
   "metadata": {},
   "source": [
    "<h3 style='color:blue'>Q5: For all of the models that were produced in 2008 that are still being produced in 2018, how much has the mpg improved and which vehicle improved the most?</h3>"
   ]
  },
  {
   "cell_type": "code",
   "execution_count": 576,
   "id": "20bf83b2",
   "metadata": {},
   "outputs": [
    {
     "data": {
      "text/plain": [
       "model\n",
       "VOLVO XC 90             16.533333\n",
       "CHEVROLET Malibu        10.666667\n",
       "CHEVROLET Equinox        8.833333\n",
       "AUDI S4                  8.500000\n",
       "AUDI S5                  8.000000\n",
       "                          ...    \n",
       "TOYOTA Tundra           -0.150000\n",
       "TOYOTA Sequoia          -0.250000\n",
       "CHEVROLET Corvette      -0.250000\n",
       "BMW 750i                -0.500000\n",
       "MASERATI Granturismo    -1.000000\n",
       "Name: cmb_mpg, Length: 72, dtype: float64"
      ]
     },
     "execution_count": 576,
     "metadata": {},
     "output_type": "execute_result"
    }
   ],
   "source": [
    "models=df_8.model.unique()\n",
    "df2=df_18.query('model in {}'.format(list(models)))\n",
    "df2.cmb_mpg.mean(),df_8.cmb_mpg.mean()\n",
    "df5=df2.groupby('model').cmb_mpg.mean() - df_8.groupby('model').cmb_mpg.mean()\n",
    "df5[df5.notna()].sort_values(ascending=False)"
   ]
  },
  {
   "cell_type": "markdown",
   "id": "f4130aa2",
   "metadata": {},
   "source": [
    "# Merging Datasets\n"
   ]
  },
  {
   "cell_type": "markdown",
   "id": "2dce9102",
   "metadata": {},
   "source": [
    "<h3 style='color:blue'>1. Rename 2008 columns to distinguish from 2018 columns after the merge</h3>\n",
    "To do this, use pandas' rename() with a lambda function. See example here. In the lambda function, take the first 10 characters of the column label and and concatenate it with _2008. (Only take the first 10 characters to prevent really long column names.)\n",
    "\n",
    "The lambda function should look something like this: lambda x: x[:10] + \"_2008\"\n",
    "\n",
    "In your rename, don't forget to specify the parameter columns= when you add the lambda function!\n",
    "\n",
    "<h3 style='color:blue'>2. Perform inner merge</h3>\n",
    "To answer the last question, we are only interested in how the same model of car has been updated and how the new model's mpg compares to the old model's mpg.\n",
    "\n",
    "Perform an inner merge with the left on model_2008 and the right on model. See documentation for pandas' merge here."
   ]
  },
  {
   "cell_type": "code",
   "execution_count": 536,
   "id": "c6e2b30a",
   "metadata": {},
   "outputs": [],
   "source": [
    "# Rename 2008 columns to distinguish from 2018 columns after the merge\n",
    "new_df_8=df_8.rename(columns=lambda x:x[:10]+'_2008')\n",
    "new_df_8\n",
    "# 2. Perform inner merge\n",
    "df_combined =pd.merge(new_df_8,df_18,how='inner',left_on='model_2008',\n",
    "    right_on='model')"
   ]
  },
  {
   "cell_type": "code",
   "execution_count": 539,
   "id": "36437f28",
   "metadata": {},
   "outputs": [
    {
     "data": {
      "text/plain": [
       "(922, 28)"
      ]
     },
     "execution_count": 539,
     "metadata": {},
     "output_type": "execute_result"
    }
   ],
   "source": [
    "df_combined.shape"
   ]
  },
  {
   "cell_type": "markdown",
   "id": "43ed1c08",
   "metadata": {},
   "source": [
    "<h3 style='color:blue'>Q5: For all of the models that were produced in 2008 that are still being produced now, how much has the mpg improved and which vehicle improved the most?</h3>\n",
    "\n",
    "Here are the steps for answering this question.\n",
    "\n",
    "1. Create a new dataframe, model_mpg, that contain the mean combined mpg values in 2008 and 2018 for each unique model\n",
    "To do this, group by model and find the mean cmb_mpg_2008 and mean cmb_mpg for each.\n",
    "\n",
    "2. Create a new column, mpg_change, with the change in mpg\n",
    "Subtract the mean mpg in 2008 from that in 2018 to get the change in mpg\n",
    "\n",
    "3. Find the vehicle that improved the most\n",
    "Find the max mpg change, and then use query or indexing to see what model it is!"
   ]
  },
  {
   "cell_type": "code",
   "execution_count": 555,
   "id": "6958be37",
   "metadata": {},
   "outputs": [
    {
     "data": {
      "text/html": [
       "<div>\n",
       "<style scoped>\n",
       "    .dataframe tbody tr th:only-of-type {\n",
       "        vertical-align: middle;\n",
       "    }\n",
       "\n",
       "    .dataframe tbody tr th {\n",
       "        vertical-align: top;\n",
       "    }\n",
       "\n",
       "    .dataframe thead th {\n",
       "        text-align: right;\n",
       "    }\n",
       "</style>\n",
       "<table border=\"1\" class=\"dataframe\">\n",
       "  <thead>\n",
       "    <tr style=\"text-align: right;\">\n",
       "      <th></th>\n",
       "      <th>cmb_mpg_2008</th>\n",
       "      <th>cmb_mpg</th>\n",
       "      <th>model_mpg</th>\n",
       "    </tr>\n",
       "    <tr>\n",
       "      <th>model</th>\n",
       "      <th></th>\n",
       "      <th></th>\n",
       "      <th></th>\n",
       "    </tr>\n",
       "  </thead>\n",
       "  <tbody>\n",
       "    <tr>\n",
       "      <th>VOLVO XC 90</th>\n",
       "      <td>15.666667</td>\n",
       "      <td>32.2</td>\n",
       "      <td>16.533333</td>\n",
       "    </tr>\n",
       "  </tbody>\n",
       "</table>\n",
       "</div>"
      ],
      "text/plain": [
       "             cmb_mpg_2008  cmb_mpg  model_mpg\n",
       "model                                        \n",
       "VOLVO XC 90     15.666667     32.2  16.533333"
      ]
     },
     "execution_count": 555,
     "metadata": {},
     "output_type": "execute_result"
    }
   ],
   "source": [
    "df3=df_combined.groupby('model')[['cmb_mpg_2008','cmb_mpg']].mean()\n",
    "df3['model_mpg']=df3['cmb_mpg']-df3['cmb_mpg_2008']\n",
    "df3[ df3['model_mpg'] == df3.model_mpg.max() ]"
   ]
  },
  {
   "cell_type": "markdown",
   "id": "b88283ba",
   "metadata": {},
   "source": [
    "<h3 style='color:red'> Solution </h3>\n",
    "\n",
    "```python\n",
    "model_mpg = df.groupby('model').mean()[['cmb_mpg_2008', 'cmb_mpg']]\n",
    "model_mpg['mpg_change'] = model_mpg['cmb_mpg'] - model_mpg['cmb_mpg_2008']\n",
    "max_change = model_mpg['mpg_change'].max()\n",
    "max_change\n",
    "model_mpg[model_mpg['mpg_change'] == max_change]\n",
    "idx = model_mpg.mpg_change.idxmax()\n",
    "idx\n",
    "model_mpg.loc[idx]\n",
    "```"
   ]
  },
  {
   "cell_type": "code",
   "execution_count": null,
   "id": "0382d9e1",
   "metadata": {},
   "outputs": [],
   "source": []
  }
 ],
 "metadata": {
  "kernelspec": {
   "display_name": "Python [conda env:anaconda3]",
   "language": "python",
   "name": "conda-env-anaconda3-py"
  },
  "language_info": {
   "codemirror_mode": {
    "name": "ipython",
    "version": 3
   },
   "file_extension": ".py",
   "mimetype": "text/x-python",
   "name": "python",
   "nbconvert_exporter": "python",
   "pygments_lexer": "ipython3",
   "version": "3.8.3"
  }
 },
 "nbformat": 4,
 "nbformat_minor": 5
}
